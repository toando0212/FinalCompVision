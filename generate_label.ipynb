{
 "cells": [
  {
   "metadata": {
    "ExecuteTime": {
     "end_time": "2025-04-04T08:09:22.454735Z",
     "start_time": "2025-04-04T08:09:22.380293Z"
    }
   },
   "cell_type": "code",
   "source": "!mv IAM_Words/words.txt data",
   "id": "efc591f2b0f311e0",
   "outputs": [
    {
     "name": "stderr",
     "output_type": "stream",
     "text": [
      "'mv' is not recognized as an internal or external command,\n",
      "operable program or batch file.\n"
     ]
    }
   ],
   "execution_count": 10
  },
  {
   "metadata": {
    "collapsed": true,
    "ExecuteTime": {
     "end_time": "2025-04-04T07:34:12.704146Z",
     "start_time": "2025-04-04T07:34:12.680144Z"
    }
   },
   "cell_type": "code",
   "outputs": [],
   "execution_count": 7,
   "source": [
    "# Cell 1: Import thư viện và khai báo đường dẫn\n",
    "import os\n",
    "import pytesseract\n",
    "from PIL import Image\n",
    "import random\n",
    "from tqdm import tqdm\n",
    "main_folder = r\"E:\\data\"\n",
    "output_file = \"labels.txt\""
   ],
   "id": "initial_id"
  },
  {
   "metadata": {
    "ExecuteTime": {
     "end_time": "2025-04-04T07:34:14.265592Z",
     "start_time": "2025-04-04T07:34:14.253025Z"
    }
   },
   "cell_type": "code",
   "source": "pytesseract.pytesseract.tesseract_cmd = r\"C:\\Program Files\\Tesseract-OCR\\tesseract.exe\"",
   "id": "d9cbc30adeb4c2e0",
   "outputs": [],
   "execution_count": 8
  },
  {
   "metadata": {
    "ExecuteTime": {
     "end_time": "2025-04-04T08:02:29.448781Z",
     "start_time": "2025-04-04T07:34:15.201689Z"
    }
   },
   "cell_type": "code",
   "source": [
    "word_count = 0\n",
    "# Đếm tổng số ảnh để tqdm biết phạm vi\n",
    "total_images = sum(len([f for f in os.listdir(os.path.join(main_folder, subfolder)) \n",
    "                        if f.lower().endswith(('.png', '.jpg', '.jpeg'))]) \n",
    "                   for subfolder in os.listdir(main_folder) if os.path.isdir(os.path.join(main_folder, subfolder)))\n",
    "\n",
    "with open(output_file, 'w') as f:\n",
    "    with tqdm(total=total_images, desc=\"Processing images\") as pbar:  # Thêm thanh tiến trình\n",
    "        for subfolder in os.listdir(main_folder):\n",
    "            subfolder_path = os.path.join(main_folder, subfolder)\n",
    "            if os.path.isdir(subfolder_path):\n",
    "                for img_name in os.listdir(subfolder_path):\n",
    "                    if img_name.lower().endswith(('.png', '.jpg', '.jpeg')):\n",
    "                        img_path = os.path.join(subfolder_path, img_name)\n",
    "                        try:\n",
    "                            img = Image.open(img_path)\n",
    "                            text = pytesseract.image_to_string(img, lang='eng').strip()\n",
    "                            words = text.split()\n",
    "                            for word in words:\n",
    "                                if word:\n",
    "                                    line_num = str(word_count // 10).zfill(2)\n",
    "                                    word_num = str(word_count % 10).zfill(2)\n",
    "                                    word_id = f\"a01-000u-{line_num}-{word_num}\"\n",
    "                                    status = \"ok\"\n",
    "                                    graylevel = random.randint(150, 200)\n",
    "                                    components = 1\n",
    "                                    x, y, w, h = random.randint(300, 2000), random.randint(700, 2700), random.randint(10, 500), random.randint(10, 150)\n",
    "                                    tag = \"NN\"\n",
    "                                    f.write(f\"{word_id} {status} {graylevel} {components} {x} {y} {w} {h} {tag} {word}\\n\")\n",
    "                                    word_count += 1\n",
    "                        except Exception as e:\n",
    "                            print(f\"Error with {img_path}: {e}\")\n",
    "                        pbar.update(1)  # Cập nhật tiến trình sau mỗi ảnh\n",
    "\n",
    "print(f\"Done! File created: {output_file}\")"
   ],
   "id": "c9b28ea22fbbbc41",
   "outputs": [
    {
     "name": "stderr",
     "output_type": "stream",
     "text": [
      "Processing images: 100%|██████████| 1539/1539 [28:14<00:00,  1.10s/it]"
     ]
    },
    {
     "name": "stdout",
     "output_type": "stream",
     "text": [
      "Done! File created: labels.txt\n"
     ]
    },
    {
     "name": "stderr",
     "output_type": "stream",
     "text": [
      "\n"
     ]
    }
   ],
   "execution_count": 9
  }
 ],
 "metadata": {
  "kernelspec": {
   "display_name": "Python 3",
   "language": "python",
   "name": "python3"
  },
  "language_info": {
   "codemirror_mode": {
    "name": "ipython",
    "version": 2
   },
   "file_extension": ".py",
   "mimetype": "text/x-python",
   "name": "python",
   "nbconvert_exporter": "python",
   "pygments_lexer": "ipython2",
   "version": "2.7.6"
  }
 },
 "nbformat": 4,
 "nbformat_minor": 5
}
