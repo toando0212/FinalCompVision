{
 "cells": [
  {
   "cell_type": "code",
   "id": "initial_id",
   "metadata": {
    "collapsed": true,
    "ExecuteTime": {
     "end_time": "2025-04-04T12:11:24.701438Z",
     "start_time": "2025-04-04T12:11:24.544060Z"
    }
   },
   "source": [
    "import pandas as pd\n",
    "import numpy as np\n",
    "from PIL import Image\n",
    "import os\n",
    "from tqdm import tqdm\n",
    "import random\n",
    "import shutil\n",
    "\n",
    "# Đọc các file gán nhãn đã chuẩn hóa\n",
    "word_labels_df = pd.read_csv(r\"E:\\HANDS-VNOnDB\\normalized_InkData_word.csv\")\n",
    "line_labels_df = pd.read_csv(r\"E:\\HANDS-VNOnDB\\normalized_InkData_line.csv\")\n",
    "paragraph_labels_df = pd.read_csv(r\"E:\\HANDS-VNOnDB\\normalized_InkData_paragraph.csv\")\n",
    "\n",
    "# Chọn thư mục chứa ảnh đã xử lý\n",
    "word_images_folder = r\"E:\\HANDS-VNOnDB\\Processed_Images_Words\"\n",
    "line_images_folder = r\"E:\\HANDS-VNOnDB\\Processed_Images_Lines\"\n",
    "paragraph_images_folder = r\"E:\\HANDS-VNOnDB\\Processed_Images_Paragraphs\""
   ],
   "outputs": [],
   "execution_count": 9
  },
  {
   "metadata": {
    "ExecuteTime": {
     "end_time": "2025-04-04T12:47:36.090947Z",
     "start_time": "2025-04-04T12:47:36.082923Z"
    }
   },
   "cell_type": "code",
   "source": [
    "# Thư mục đầu ra cho ảnh đã giảm\n",
    "reduced_word_images_folder = r\"D:\\HANDS-VNOnDB\\reduced_Processed_Images_Words\"\n",
    "reduced_line_images_folder = r\"D:\\HANDS-VNOnDB\\reduced_Processed_Images_Lines\"\n",
    "reduced_paragraph_images_folder = r\"D:\\HANDS-VNOnDB\\reduced_Processed_Images_Paragraphs\"\n",
    "\n",
    "# T\n"
   ],
   "id": "8518e24c63765e7e",
   "outputs": [],
   "execution_count": 37
  },
  {
   "metadata": {
    "ExecuteTime": {
     "end_time": "2025-04-04T12:47:36.909010Z",
     "start_time": "2025-04-04T12:47:36.894488Z"
    }
   },
   "cell_type": "code",
   "source": [
    "# Hàm giảm kích thước dữ liệu và đồng bộ ảnh\n",
    "def reduce_data_and_save(labels_df, image_folder, reduced_csv_path, reduced_images_folder, sample_fraction=0.3):\n",
    "    # Lấy 30% ngẫu nhiên của dữ liệu\n",
    "    reduced_df = labels_df.sample(frac=sample_fraction, random_state=42)\n",
    "    \n",
    "    # Tạo thư mục lưu ảnh đã giảm\n",
    "    if not os.path.exists(reduced_images_folder):\n",
    "        os.makedirs(reduced_images_folder)\n",
    "        print(f\"Thư mục {reduced_images_folder} đã được tạo.\")\n",
    "\n",
    "    # Lọc ảnh tương ứng với các bản ghi đã chọn\n",
    "    selected_filenames = reduced_df['id'].apply(lambda x: f\"{x}.png\").tolist()\n",
    "\n",
    "    # Dùng tqdm để theo dõi tiến trình sao chép ảnh\n",
    "    for img_filename in tqdm(selected_filenames, desc=\"Sao chép ảnh đã giảm\", total=len(selected_filenames)):\n",
    "        img_path = os.path.join(image_folder, img_filename)\n",
    "        if os.path.exists(img_path):  # Kiểm tra ảnh có tồn tại hay không\n",
    "            # Sao chép ảnh vào thư mục mới\n",
    "            shutil.copy(img_path, os.path.join(reduced_images_folder, img_filename))\n",
    "        else:\n",
    "            print(f\"Ảnh không tìm thấy: {img_filename}\")\n",
    "\n",
    "    # Lưu file CSV đã giảm\n",
    "    reduced_df.to_csv(reduced_csv_path, index=False)\n",
    "    print(f\"Dữ liệu đã giảm kích thước và lưu tại: {reduced_csv_path}\")\n",
    "    \n",
    "    # Kiểm tra xem thư mục ảnh đã chứa ảnh hay chưa\n",
    "    print(f\"Đã sao chép {len(selected_filenames)} ảnh vào thư mục {reduced_images_folder}\")\n",
    "    print(f\"Số lượng ảnh trong thư mục đích: {len(os.listdir(reduced_images_folder))}\")"
   ],
   "id": "aa86b6e860bf8dc1",
   "outputs": [],
   "execution_count": 38
  },
  {
   "metadata": {
    "ExecuteTime": {
     "end_time": "2025-04-04T12:48:00.742941Z",
     "start_time": "2025-04-04T12:47:38.440876Z"
    }
   },
   "cell_type": "code",
   "source": [
    "# Giảm kích thước và lưu lại các file CSV và ảnh đã giảm\n",
    "reduce_data_and_save(word_labels_df, word_images_folder, r\"E:\\HANDS-VNOnDB\\reduced_normalized_InkData_word.csv\", reduced_word_images_folder)\n",
    "reduce_data_and_save(line_labels_df, line_images_folder, r\"E:\\HANDS-VNOnDB\\reduced_normalized_InkData_line.csv\", reduced_line_images_folder)\n",
    "reduce_data_and_save(paragraph_labels_df, paragraph_images_folder, r\"E:\\HANDS-VNOnDB\\reduced_normalized_InkData_paragraph.csv\", reduced_paragraph_images_folder)"
   ],
   "id": "f8cc1e3793157828",
   "outputs": [
    {
     "name": "stderr",
     "output_type": "stream",
     "text": [
      "Sao chép ảnh đã giảm: 100%|██████████| 33224/33224 [00:20<00:00, 1627.89it/s]\n"
     ]
    },
    {
     "name": "stdout",
     "output_type": "stream",
     "text": [
      "Dữ liệu đã giảm kích thước và lưu tại: E:\\HANDS-VNOnDB\\reduced_normalized_InkData_word.csv\n",
      "Đã sao chép 33224 ảnh vào thư mục D:\\HANDS-VNOnDB\\reduced_Processed_Images_Words\n",
      "Số lượng ảnh trong thư mục đích: 33224\n"
     ]
    },
    {
     "name": "stderr",
     "output_type": "stream",
     "text": [
      "Sao chép ảnh đã giảm: 100%|██████████| 2189/2189 [00:01<00:00, 1515.18it/s]\n"
     ]
    },
    {
     "name": "stdout",
     "output_type": "stream",
     "text": [
      "Dữ liệu đã giảm kích thước và lưu tại: E:\\HANDS-VNOnDB\\reduced_normalized_InkData_line.csv\n",
      "Đã sao chép 2189 ảnh vào thư mục D:\\HANDS-VNOnDB\\reduced_Processed_Images_Lines\n",
      "Số lượng ảnh trong thư mục đích: 2189\n"
     ]
    },
    {
     "name": "stderr",
     "output_type": "stream",
     "text": [
      "Sao chép ảnh đã giảm: 100%|██████████| 343/343 [00:00<00:00, 1338.29it/s]"
     ]
    },
    {
     "name": "stdout",
     "output_type": "stream",
     "text": [
      "Dữ liệu đã giảm kích thước và lưu tại: E:\\HANDS-VNOnDB\\reduced_normalized_InkData_paragraph.csv\n",
      "Đã sao chép 343 ảnh vào thư mục D:\\HANDS-VNOnDB\\reduced_Processed_Images_Paragraphs\n",
      "Số lượng ảnh trong thư mục đích: 343\n"
     ]
    },
    {
     "name": "stderr",
     "output_type": "stream",
     "text": [
      "\n"
     ]
    }
   ],
   "execution_count": 39
  }
 ],
 "metadata": {
  "kernelspec": {
   "display_name": "Python 3",
   "language": "python",
   "name": "python3"
  },
  "language_info": {
   "codemirror_mode": {
    "name": "ipython",
    "version": 2
   },
   "file_extension": ".py",
   "mimetype": "text/x-python",
   "name": "python",
   "nbconvert_exporter": "python",
   "pygments_lexer": "ipython2",
   "version": "2.7.6"
  }
 },
 "nbformat": 4,
 "nbformat_minor": 5
}
