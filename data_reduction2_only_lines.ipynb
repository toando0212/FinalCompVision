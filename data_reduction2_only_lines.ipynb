{
 "cells": [
  {
   "metadata": {
    "ExecuteTime": {
     "end_time": "2025-04-05T08:49:24.321457Z",
     "start_time": "2025-04-05T08:49:24.306453Z"
    }
   },
   "cell_type": "code",
   "source": [
    "import pandas as pd\n",
    "import numpy as np\n",
    "from PIL import Image\n",
    "import os\n",
    "from tqdm import tqdm\n",
    "import random\n",
    "import shutil"
   ],
   "id": "e58d9d3291219210",
   "outputs": [],
   "execution_count": 1
  },
  {
   "metadata": {
    "collapsed": true,
    "ExecuteTime": {
     "end_time": "2025-04-05T08:54:34.068700Z",
     "start_time": "2025-04-05T08:54:34.027294Z"
    }
   },
   "cell_type": "code",
   "source": [
    "line_labels_df = pd.read_csv(r\"E:\\HANDS-VNOnDB\\normalized_InkData_line.csv\")\n",
    "\n",
    "line_images_folder = r\"E:\\HANDS-VNOnDB\\Processed_Images_Lines2\""
   ],
   "id": "initial_id",
   "outputs": [],
   "execution_count": 10
  },
  {
   "metadata": {
    "ExecuteTime": {
     "end_time": "2025-04-05T08:54:35.414306Z",
     "start_time": "2025-04-05T08:54:35.395303Z"
    }
   },
   "cell_type": "code",
   "source": [
    "#thư mục đầu ra cho ảnh đã giảm\n",
    "reduced_line_images_folder = r\"D:\\HANDS-VNOnDB\\reduced_Processed_Images_Lines2\""
   ],
   "id": "a457142f9bbd28cd",
   "outputs": [],
   "execution_count": 11
  },
  {
   "metadata": {
    "ExecuteTime": {
     "end_time": "2025-04-05T08:54:36.198831Z",
     "start_time": "2025-04-05T08:54:36.180823Z"
    }
   },
   "cell_type": "code",
   "source": [
    "# Hàm giảm kích thước dữ liệu và đồng bộ ảnh\n",
    "def reduce_data_and_save(labels_df, image_folder, reduced_csv_path, reduced_images_folder, sample_fraction=0.6):\n",
    "    # Lấy 30% ngẫu nhiên của dữ liệu\n",
    "    reduced_df = labels_df.sample(frac=sample_fraction, random_state=42)\n",
    "    \n",
    "    # Tạo thư mục lưu ảnh đã giảm\n",
    "    if not os.path.exists(reduced_images_folder):\n",
    "        os.makedirs(reduced_images_folder)\n",
    "        print(f\"Thư mục {reduced_images_folder} đã được tạo.\")\n",
    "\n",
    "    # Lọc ảnh tương ứng với các bản ghi đã chọn\n",
    "    selected_filenames = reduced_df['id'].apply(lambda x: f\"{x}.png\").tolist()\n",
    "\n",
    "    # Dùng tqdm để theo dõi tiến trình sao chép ảnh\n",
    "    for img_filename in tqdm(selected_filenames, desc=\"Sao chép ảnh đã giảm\", total=len(selected_filenames)):\n",
    "        img_path = os.path.join(image_folder, img_filename)\n",
    "        if os.path.exists(img_path):  # Kiểm tra ảnh có tồn tại hay không\n",
    "            # Sao chép ảnh vào thư mục mới\n",
    "            shutil.copy(img_path, os.path.join(reduced_images_folder, img_filename))\n",
    "        else:\n",
    "            print(f\"Ảnh không tìm thấy: {img_filename}\")\n",
    "\n",
    "    # Lưu file CSV đã giảm\n",
    "    reduced_df.to_csv(reduced_csv_path, index=False)\n",
    "    print(f\"Dữ liệu đã giảm kích thước và lưu tại: {reduced_csv_path}\")\n",
    "    \n",
    "    # Kiểm tra xem thư mục ảnh đã chứa ảnh hay chưa\n",
    "    print(f\"Đã sao chép {len(selected_filenames)} ảnh vào thư mục {reduced_images_folder}\")\n",
    "    print(f\"Số lượng ảnh trong thư mục đích: {len(os.listdir(reduced_images_folder))}\")"
   ],
   "id": "8306f749b61313f0",
   "outputs": [],
   "execution_count": 12
  },
  {
   "metadata": {
    "ExecuteTime": {
     "end_time": "2025-04-05T08:54:46.801696Z",
     "start_time": "2025-04-05T08:54:38.238665Z"
    }
   },
   "cell_type": "code",
   "source": "reduce_data_and_save(line_labels_df, line_images_folder, r\"E:\\HANDS-VNOnDB\\reduced_normalized_InkData_line2.csv\", reduced_line_images_folder)",
   "id": "ba7077dba4d3ca0a",
   "outputs": [
    {
     "name": "stderr",
     "output_type": "stream",
     "text": [
      "Sao chép ảnh đã giảm: 100%|██████████| 4378/4378 [00:08<00:00, 513.43it/s]"
     ]
    },
    {
     "name": "stdout",
     "output_type": "stream",
     "text": [
      "Dữ liệu đã giảm kích thước và lưu tại: E:\\HANDS-VNOnDB\\reduced_normalized_InkData_line2.csv\n",
      "Đã sao chép 4378 ảnh vào thư mục D:\\HANDS-VNOnDB\\reduced_Processed_Images_Lines2\n",
      "Số lượng ảnh trong thư mục đích: 4378\n"
     ]
    },
    {
     "name": "stderr",
     "output_type": "stream",
     "text": [
      "\n"
     ]
    }
   ],
   "execution_count": 13
  }
 ],
 "metadata": {
  "kernelspec": {
   "display_name": "Python 3",
   "language": "python",
   "name": "python3"
  },
  "language_info": {
   "codemirror_mode": {
    "name": "ipython",
    "version": 2
   },
   "file_extension": ".py",
   "mimetype": "text/x-python",
   "name": "python",
   "nbconvert_exporter": "python",
   "pygments_lexer": "ipython2",
   "version": "2.7.6"
  }
 },
 "nbformat": 4,
 "nbformat_minor": 5
}
