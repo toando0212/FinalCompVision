{
 "cells": [
  {
   "cell_type": "code",
   "id": "initial_id",
   "metadata": {
    "collapsed": true,
    "ExecuteTime": {
     "end_time": "2025-04-04T08:37:01.903665Z",
     "start_time": "2025-04-04T08:37:00.377387Z"
    }
   },
   "source": [
    "import os\n",
    "from PIL import Image\n",
    "import pandas as pd"
   ],
   "outputs": [],
   "execution_count": 2
  },
  {
   "metadata": {
    "ExecuteTime": {
     "end_time": "2025-04-04T08:37:06.136676Z",
     "start_time": "2025-04-04T08:37:06.119562Z"
    }
   },
   "cell_type": "code",
   "source": [
    "# Đường dẫn đến thư mục chứa dữ liệu\n",
    "base_dir = \"E:/IAM_Words/IAM_Words\"\n",
    "words_dir = os.path.join(base_dir, \"words\")\n",
    "labels_file = os.path.join(base_dir, \"words.txt\")\n"
   ],
   "id": "53783c69508cdcac",
   "outputs": [],
   "execution_count": 3
  },
  {
   "metadata": {
    "ExecuteTime": {
     "end_time": "2025-04-04T08:37:20.041030Z",
     "start_time": "2025-04-04T08:37:20.014309Z"
    }
   },
   "cell_type": "code",
   "source": [
    "# Đọc file nhãn\n",
    "data = []\n",
    "with open(labels_file, 'r') as f:\n",
    "    for line in f:\n",
    "        if line.startswith('#'):\n",
    "            continue\n",
    "        parts = line.strip().split()\n",
    "        if len(parts) < 9:\n",
    "            continue\n",
    "            \n",
    "        word_id = parts[0]\n",
    "        status = parts[1]\n",
    "        gray_level = int(parts[2])\n",
    "        x, y, w, h = map(int, parts[4:8])\n",
    "        tag = parts[8]\n",
    "        transcription = ' '.join(parts[9:])\n",
    "        \n",
    "        # Xây dựng đường dẫn ảnh\n",
    "        form_id = '-'.join(word_id.split('-')[:2])\n",
    "        subfolder = word_id.split('-')[0]\n",
    "        img_filename = f\"{word_id}.png\"\n",
    "        img_path = os.path.join(words_dir, subfolder, form_id, img_filename)\n",
    "        \n",
    "        if os.path.exists(img_path):\n",
    "            data.append({\n",
    "                'word_id': word_id,\n",
    "                'image_path': img_path,\n",
    "                'status': status,\n",
    "                'bbox': (x, y, w, h),\n",
    "                'tag': tag,\n",
    "                'transcription': transcription\n",
    "            })\n",
    "\n",
    "# Chuyển thành DataFrame\n",
    "df = pd.DataFrame(data)\n",
    "print(f\"Tổng số mẫu hợp lệ: {len(df)}\")"
   ],
   "id": "48b873c9b5b401ce",
   "outputs": [
    {
     "ename": "ValueError",
     "evalue": "invalid literal for int() with base 10: 'AT'",
     "output_type": "error",
     "traceback": [
      "\u001B[1;31m---------------------------------------------------------------------------\u001B[0m",
      "\u001B[1;31mValueError\u001B[0m                                Traceback (most recent call last)",
      "Cell \u001B[1;32mIn[5], line 14\u001B[0m\n\u001B[0;32m     12\u001B[0m status \u001B[38;5;241m=\u001B[39m parts[\u001B[38;5;241m1\u001B[39m]\n\u001B[0;32m     13\u001B[0m gray_level \u001B[38;5;241m=\u001B[39m \u001B[38;5;28mint\u001B[39m(parts[\u001B[38;5;241m2\u001B[39m])\n\u001B[1;32m---> 14\u001B[0m x, y, w, h \u001B[38;5;241m=\u001B[39m \u001B[38;5;28mmap\u001B[39m(\u001B[38;5;28mint\u001B[39m, parts[\u001B[38;5;241m4\u001B[39m:\u001B[38;5;241m8\u001B[39m])\n\u001B[0;32m     15\u001B[0m tag \u001B[38;5;241m=\u001B[39m parts[\u001B[38;5;241m8\u001B[39m]\n\u001B[0;32m     16\u001B[0m transcription \u001B[38;5;241m=\u001B[39m \u001B[38;5;124m'\u001B[39m\u001B[38;5;124m \u001B[39m\u001B[38;5;124m'\u001B[39m\u001B[38;5;241m.\u001B[39mjoin(parts[\u001B[38;5;241m9\u001B[39m:])\n",
      "\u001B[1;31mValueError\u001B[0m: invalid literal for int() with base 10: 'AT'"
     ]
    }
   ],
   "execution_count": 5
  }
 ],
 "metadata": {
  "kernelspec": {
   "display_name": "Python 3",
   "language": "python",
   "name": "python3"
  },
  "language_info": {
   "codemirror_mode": {
    "name": "ipython",
    "version": 2
   },
   "file_extension": ".py",
   "mimetype": "text/x-python",
   "name": "python",
   "nbconvert_exporter": "python",
   "pygments_lexer": "ipython2",
   "version": "2.7.6"
  }
 },
 "nbformat": 4,
 "nbformat_minor": 5
}
