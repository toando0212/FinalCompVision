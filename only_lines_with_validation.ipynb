{
 "cells": [
  {
   "cell_type": "code",
   "id": "initial_id",
   "metadata": {
    "collapsed": true,
    "ExecuteTime": {
     "end_time": "2025-04-06T07:32:18.098815Z",
     "start_time": "2025-04-06T07:32:17.072566Z"
    }
   },
   "source": [
    "import os\n",
    "import pandas as pd\n",
    "from sklearn.model_selection import train_test_split "
   ],
   "outputs": [],
   "execution_count": 1
  },
  {
   "metadata": {
    "ExecuteTime": {
     "end_time": "2025-04-06T07:23:29.910727Z",
     "start_time": "2025-04-06T07:23:29.905067Z"
    }
   },
   "cell_type": "code",
   "source": [
    "# --- 1. Định nghĩa đường dẫn ---\n",
    "DATA_DIR = r\"E:\\HANDS-VNOnDB\" # <--- Đảm bảo đường "
   ],
   "id": "d93261d400396840",
   "outputs": [
    {
     "name": "stdout",
     "output_type": "stream",
     "text": [
      "--- 1. Thiết lập cấu hình ---\n"
     ]
    }
   ],
   "execution_count": 3
  },
  {
   "metadata": {
    "ExecuteTime": {
     "end_time": "2025-04-06T07:23:31.935618Z",
     "start_time": "2025-04-06T07:23:31.927629Z"
    }
   },
   "cell_type": "code",
   "source": [
    "# --- Siêu tham số Mô hình & Huấn luyện ---\n",
    "TARGET_IMG_HEIGHT = 32    # Phải khớp với ảnh đã tiền xử lý\n",
    "TARGET_IMG_WIDTH = 256    # Phải khớp với ảnh đã tiền xử lý\n",
    "CNN_OUTPUT_WIDTH = TARGET_IMG_WIDTH // 4 # Ước lượng SeqLen từ CNN\n",
    "RNN_HIDDEN_SIZE = 256     # Kích thước ẩn LSTM\n",
    "RNN_NUM_LAYERS = 1        # Số lớp LSTM (giảm để nhanh hơn)\n",
    "LEARNING_RATE = 5e-5      # Learning rate thấp\n",
    "WEIGHT_DECAY = 0          # Không dùng weight decay ban đầu\n",
    "BATCH_SIZE = 16           # Batch size (điều chỉnh nếu cần)\n",
    "NUM_EPOCHS = 5          # Số epoch tối đa\n",
    "NUM_WORKERS = 0           # Tốt nhất cho CPU/Windows\n",
    "DEVICE = torch.device(\"cuda\" if torch.cuda.is_available() else \"cpu\")\n",
    "# --- Siêu tham số Early Stopping ---\n",
    "PATIENCE = 7              # Số epoch chờ cải thiện Val CER (tăng lên chút)\n",
    "MIN_DELTA = 0.005         # Mức cải thiện CER tối thiểu\n",
    "\n",
    "print(f\"   Sử dụng Device: {DEVICE}\")\n",
    "print(f\"   Kích thước ảnh: {TARGET_IMG_WIDTH}x{TARGET_IMG_HEIGHT}\")\n",
    "print(f\"   Batch Size: {BATCH_SIZE}\")\n",
    "print(f\"   Learning Rate: {LEARNING_RATE}\")\n",
    "print(f\"   Epochs tối đa: {NUM_EPOCHS}\")\n",
    "print(f\"   Early Stopping Patience: {PATIENCE}\")"
   ],
   "id": "601dc13e96ce8df1",
   "outputs": [
    {
     "name": "stdout",
     "output_type": "stream",
     "text": [
      "   Sử dụng Device: cpu\n",
      "   Kích thước ảnh: 256x32\n",
      "   Batch Size: 16\n",
      "   Learning Rate: 5e-05\n",
      "   Epochs tối đa: 5\n",
      "   Early Stopping Patience: 7\n"
     ]
    }
   ],
   "execution_count": 4
  },
  {
   "metadata": {
    "ExecuteTime": {
     "end_time": "2025-04-06T07:23:34.054797Z",
     "start_time": "2025-04-06T07:23:33.990788Z"
    }
   },
   "cell_type": "code",
   "source": [
    "# --- 2. Load Bản đồ ký tự và Dữ liệu CSV ---\n",
    "print(\"\\n--- 2. Tải Bản đồ ký tự và Dữ liệu CSV ---\")\n",
    "try:\n",
    "    # Load char map\n",
    "    with open(CHARMAP_PATH, 'r', encoding='utf-8') as f_map:\n",
    "        char_maps = json.load(f_map)\n",
    "        char_to_int = char_maps['char_to_int']\n",
    "        int_to_char = {int(k): v for k, v in char_maps['int_to_char'].items()} # Key là int\n",
    "    num_classes_htr = len(char_to_int)\n",
    "    BLANK_TOKEN = '<blank>'\n",
    "    BLANK_TOKEN_INDEX = char_to_int.get(BLANK_TOKEN, 0)\n",
    "    print(f\"   Đã tải bản đồ ký tự. Số lớp: {num_classes_htr}, Blank index: {BLANK_TOKEN_INDEX}\")\n",
    "\n",
    "    # Load CSV files\n",
    "    train_df = pd.read_csv(TRAIN_CSV_PATH)\n",
    "    val_df = pd.read_csv(VAL_CSV_PATH)\n",
    "    test_df = pd.read_csv(TEST_CSV_PATH)\n",
    "    # Lấy list paths và text labels\n",
    "    X_train_paths = train_df['image_path'].tolist()\n",
    "    y_train_text = train_df['label'].fillna('').tolist() # Xử lý NaN nếu có\n",
    "    X_val_paths = val_df['image_path'].tolist()\n",
    "    y_val_text = val_df['label'].fillna('').tolist()\n",
    "    X_test_paths = test_df['image_path'].tolist()\n",
    "    y_test_text = test_df['label'].fillna('').tolist()\n",
    "    print(f\"   Đã tải dữ liệu từ CSV: Train={len(X_train_paths)}, Val={len(X_val_paths)}, Test={len(X_test_paths)}\")\n",
    "\n",
    "except FileNotFoundError as e:\n",
    "    print(f\"Lỗi: Không tìm thấy file cần thiết: {e}.\")\n",
    "    exit()\n",
    "except Exception as e:\n",
    "    print(f\"Lỗi không xác định khi tải dữ liệu: {e}\")\n",
    "    exit()"
   ],
   "id": "10bc3261544934af",
   "outputs": [
    {
     "name": "stdout",
     "output_type": "stream",
     "text": [
      "\n",
      "--- 2. Tải Bản đồ ký tự và Dữ liệu CSV ---\n",
      "   Đã tải bản đồ ký tự. Số lớp: 162, Blank index: 0\n",
      "Lỗi: Không tìm thấy file cần thiết: [Errno 2] No such file or directory: 'E:\\\\HANDS-VNOnDB\\\\validation_htr_lines.csv'.\n"
     ]
    }
   ],
   "execution_count": 5
  }
 ],
 "metadata": {
  "kernelspec": {
   "display_name": "Python 3",
   "language": "python",
   "name": "python3"
  },
  "language_info": {
   "codemirror_mode": {
    "name": "ipython",
    "version": 2
   },
   "file_extension": ".py",
   "mimetype": "text/x-python",
   "name": "python",
   "nbconvert_exporter": "python",
   "pygments_lexer": "ipython2",
   "version": "2.7.6"
  }
 },
 "nbformat": 4,
 "nbformat_minor": 5
}
